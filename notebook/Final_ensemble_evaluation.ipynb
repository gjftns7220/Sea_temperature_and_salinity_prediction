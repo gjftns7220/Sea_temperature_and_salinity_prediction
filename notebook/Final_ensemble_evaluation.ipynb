{
  "cells": [
    {
      "cell_type": "code",
      "execution_count": null,
      "metadata": {
        "colab": {
          "base_uri": "https://localhost:8080/"
        },
        "id": "cKio0qJcsYQT",
        "outputId": "b70b9c1e-de39-4701-e2af-8d8f00427e32"
      },
      "outputs": [
        {
          "name": "stdout",
          "output_type": "stream",
          "text": [
            "Drive already mounted at /content/drive; to attempt to forcibly remount, call drive.mount(\"/content/drive\", force_remount=True).\n"
          ]
        }
      ],
      "source": [
        "from google.colab import drive\n",
        "drive.mount('/content/drive')"
      ]
    },
    {
      "cell_type": "code",
      "execution_count": null,
      "metadata": {
        "id": "EgyZKYdhhMJP"
      },
      "outputs": [],
      "source": [
        "import pandas as pd\n",
        "import numpy as np"
      ]
    },
    {
      "cell_type": "code",
      "execution_count": null,
      "metadata": {},
      "outputs": [],
      "source": [
        "from sklearn.metrics import mean_squared_error, r2_score, mean_absolute_error\n",
        "from math import sqrt\n",
        "from scipy.optimize import minimize"
      ]
    },
    {
      "cell_type": "code",
      "execution_count": null,
      "metadata": {
        "colab": {
          "base_uri": "https://localhost:8080/"
        },
        "id": "JMrXyGAg19s1",
        "outputId": "5d174215-e8ab-46c6-82bd-c2df7424458e"
      },
      "outputs": [
        {
          "name": "stdout",
          "output_type": "stream",
          "text": [
            "Model: LightGBM, sea_water_temperature - R^2: 0.833878173102925\n",
            "Model: LightGBM, sea_water_practical_salinity - R^2: 0.8940496966978438\n",
            "Model: XGBoost, sea_water_temperature - R^2: 0.8377575748260944\n",
            "Model: XGBoost, sea_water_practical_salinity - R^2: 0.9009908462658189\n",
            "Model: CatBoost, sea_water_temperature - R^2: 0.8541286243720079\n",
            "Model: CatBoost, sea_water_practical_salinity - R^2: 0.9021902450787243\n"
          ]
        }
      ],
      "source": [
        "\"\"\"\n",
        "from sklearn.metrics import \n",
        "\n",
        "model_classes = [\"LightGBM\", \"XGBoost\", \"CatBoost\"]\n",
        "target_cols = ['sea_water_temperature', 'sea_water_practical_salinity']\n",
        "\n",
        "for model_name in model_classes:\n",
        "    for target_col in target_cols:\n",
        "\n",
        "        file_path = f'/content/drive/MyDrive/Colab Notebooks/Batch/{model_name}_{target_col}_prediction_whole.csv'\n",
        "\n",
        "\n",
        "        data = pd.read_csv(file_path)\n",
        "\n",
        "\n",
        "        actual = data[f'actual_{target_col}']\n",
        "        predicted = data[f'predicted_{target_col}']\n",
        "\n",
        "        r2 = r2_score(actual, predicted)\n",
        "        print(f\"Model: {model_name}, {target_col} - R^2: {r2}\")\n",
        "\"\"\""
      ]
    },
    {
      "cell_type": "code",
      "execution_count": null,
      "metadata": {
        "id": "HY0Rhx9KhIpJ"
      },
      "outputs": [],
      "source": [
        "temp_preds1 = pd.read_csv('/content/drive/MyDrive/Colab Notebooks/Batch/LightGBM_sea_water_temperature_prediction_whole_2050.csv')\n",
        "temp_preds2 = pd.read_csv('/content/drive/MyDrive/Colab Notebooks/Batch/XGBoost_sea_water_temperature_prediction_whole_2050.csv')\n",
        "temp_preds3 = pd.read_csv('/content/drive/MyDrive/Colab Notebooks/Batch/CatBoost_sea_water_temperature_prediction_whole_2050.csv')\n",
        "\n",
        "\n",
        "sal_preds1 = pd.read_csv('/content/drive/MyDrive/Colab Notebooks/Batch/LightGBM_sea_water_practical_salinity_prediction_whole_2050.csv')\n",
        "sal_preds2 = pd.read_csv('/content/drive/MyDrive/Colab Notebooks/Batch/XGBoost_sea_water_practical_salinity_prediction_whole_2050.csv')\n",
        "sal_preds3 = pd.read_csv('/content/drive/MyDrive/Colab Notebooks/Batch/CatBoost_sea_water_practical_salinity_prediction_whole_2050.csv')\n",
        "\n",
        "\n",
        "actual_temp = temp_preds1['actual_sea_water_temperature']\n",
        "actual_salinity = sal_preds1['actual_sea_water_practical_salinity']\n",
        "temp_predictions = pd.concat([temp_preds1['predicted_sea_water_temperature'],\n",
        "                              temp_preds2['predicted_sea_water_temperature'],\n",
        "                              temp_preds3['predicted_sea_water_temperature']], axis=1)\n",
        "\n",
        "salinity_predictions = pd.concat([sal_preds1['predicted_sea_water_practical_salinity'],\n",
        "                                  sal_preds2['predicted_sea_water_practical_salinity'],\n",
        "                                  sal_preds3['predicted_sea_water_practical_salinity']], axis=1)\n",
        "\n",
        "\n"
      ]
    },
    {
      "cell_type": "code",
      "execution_count": null,
      "metadata": {
        "colab": {
          "base_uri": "https://localhost:8080/"
        },
        "id": "1pxg28dpuoc-",
        "outputId": "e5089d4c-d21c-45ec-f2d5-b6b3fdc4e42b"
      },
      "outputs": [
        {
          "name": "stdout",
          "output_type": "stream",
          "text": [
            "Ensemble predictions saved to CSV.\n"
          ]
        }
      ],
      "source": [
        "\n",
        "temp_preds1 = pd.read_csv('/content/drive/MyDrive/Colab Notebooks/Batch/LightGBM_sea_water_temperature_prediction_2050.csv')\n",
        "temp_preds2 = pd.read_csv('/content/drive/MyDrive/Colab Notebooks/Batch/XGBoost_sea_water_temperature_prediction_2050.csv')\n",
        "temp_preds3 = pd.read_csv('/content/drive/MyDrive/Colab Notebooks/Batch/CatBoost_sea_water_temperature_prediction_2050.csv')\n",
        "\n",
        "sal_preds1 = pd.read_csv('/content/drive/MyDrive/Colab Notebooks/Batch/LightGBM_sea_water_practical_salinity_prediction_2050.csv')\n",
        "sal_preds2 = pd.read_csv('/content/drive/MyDrive/Colab Notebooks/Batch/XGBoost_sea_water_practical_salinity_prediction_2050.csv')\n",
        "sal_preds3 = pd.read_csv('/content/drive/MyDrive/Colab Notebooks/Batch/CatBoost_sea_water_practical_salinity_prediction_2050.csv')\n",
        "\n",
        "\n",
        "temp_predictions = pd.concat([temp_preds1['predicted_sea_water_temperature'],\n",
        "                              temp_preds2['predicted_sea_water_temperature'],\n",
        "                              temp_preds3['predicted_sea_water_temperature']], axis=1)\n",
        "\n",
        "salinity_predictions = pd.concat([sal_preds1['predicted_sea_water_practical_salinity'],\n",
        "                                  sal_preds2['predicted_sea_water_practical_salinity'],\n",
        "                                  sal_preds3['predicted_sea_water_practical_salinity']], axis=1)\n",
        "additional_columns = temp_preds1[['date', 'latitude', 'longitude', 'depth']]\n",
        "\n",
        "\n",
        "\n",
        "weights_temp = [0.2766, 0.0931, 0.6303]\n",
        "weights_sal = [0.276, 0.2838, 0.4402]\n",
        "\n",
        "\n",
        "ensemble_temp = temp_predictions.dot(weights_temp)\n",
        "ensemble_salinity = salinity_predictions.dot(weights_sal)\n",
        "\n",
        "ensemble_predictions = pd.DataFrame({\n",
        "    'date': additional_columns['date'],\n",
        "    'latitude': additional_columns['latitude'],\n",
        "    'longitude': additional_columns['longitude'],\n",
        "    'depth': additional_columns['depth'],\n",
        "    'ensemble_temperature': ensemble_temp,\n",
        "    'ensemble_salinity': ensemble_salinity\n",
        "})\n",
        "\n",
        "\n",
        "ensemble_predictions.to_csv('/content/drive/MyDrive/Colab Notebooks/Batch/ensemble_predictions_2050.csv', index=False)\n",
        "\n",
        "print(\"Ensemble predictions saved to CSV.\")\n"
      ]
    },
    {
      "cell_type": "code",
      "execution_count": null,
      "metadata": {
        "id": "5LdSrHa-jCMs"
      },
      "outputs": [],
      "source": [
        "def calculate_rmse(weights, predictions, actuals):\n",
        "    combined_prediction = np.average(predictions, axis=1, weights=weights)\n",
        "    return sqrt(mean_squared_error(actuals, combined_prediction))\n",
        "initial_weights = [1/3, 1/3, 1/3] \n",
        "bounds = [(0, 1), (0, 1), (0, 1)] \n",
        "result_temp = minimize(calculate_rmse, initial_weights, args=(temp_predictions, actual_temp), method='SLSQP', bounds=bounds)\n",
        "optimized_weights_temp = result_temp.x\n"
      ]
    },
    {
      "cell_type": "code",
      "execution_count": null,
      "metadata": {
        "id": "VaazH3YkjEgC"
      },
      "outputs": [],
      "source": [
        "result_salinity = minimize(calculate_rmse, initial_weights, args=(salinity_predictions, actual_salinity), method='SLSQP', bounds=bounds)\n",
        "optimized_weights_salinity = result_salinity.x\n",
        "final_predictions_temp = np.average(temp_predictions, axis=1, weights=optimized_weights_temp)\n",
        "final_predictions_salinity = np.average(salinity_predictions, axis=1, weights=optimized_weights_salinity)\n",
        "final_results = pd.DataFrame({\n",
        "    'date': temp_preds1['date'],\n",
        "    'actual_sea_water_temperature': actual_temp,\n",
        "    'predicted_sea_water_temperature': final_predictions_temp,\n",
        "    'actual_sea_water_practical_salinity': actual_salinity,\n",
        "    'predicted_sea_water_practical_salinity': final_predictions_salinity\n",
        "})\n",
        "final_results.to_csv('/content/drive/MyDrive/Colab Notebooks/Batch/final_ensemble_predictions.csv', index=False)\n",
        "\n"
      ]
    },
    {
      "cell_type": "code",
      "execution_count": null,
      "metadata": {
        "colab": {
          "base_uri": "https://localhost:8080/"
        },
        "id": "-_cqHgYLkLNm",
        "outputId": "c284f1f4-6dd2-44cd-9f47-62cd9e50b2bb"
      },
      "outputs": [
        {
          "name": "stdout",
          "output_type": "stream",
          "text": [
            "RMSE for Temperature Predictions: 0.6975153165814829\n",
            "RMSE for Salinity Predictions: 0.49666833258363685\n",
            "Normalized Weights for Temperature Models: [0.27659584030545165, 0.09310472521758104, 0.6302994344769672]\n",
            "Normalized Weights for Salinity Models: [0.27595505902453477, 0.28382096748198066, 0.4402239734934846]\n",
            "MAE for Temperature Predictions: 0.5326765827112249\n",
            "MAE for Salinity Predictions: 0.265932561474047\n"
          ]
        }
      ],
      "source": [
        "rmse_temp = sqrt(mean_squared_error(actual_temp, final_predictions_temp))\n",
        "print(f'RMSE for Temperature Predictions: {rmse_temp}')\n",
        "rmse_salinity = sqrt(mean_squared_error(actual_salinity, final_predictions_salinity))\n",
        "print(f'RMSE for Salinity Predictions: {rmse_salinity}')\n",
        "total_weight_temp = sum(optimized_weights_temp)\n",
        "normalized_weights_temp = [w / total_weight_temp for w in optimized_weights_temp]\n",
        "print(f'Normalized Weights for Temperature Models: {normalized_weights_temp}')\n",
        "\n",
        "total_weight_salinity = sum(optimized_weights_salinity)\n",
        "normalized_weights_salinity = [w / total_weight_salinity for w in optimized_weights_salinity]\n",
        "print(f'Normalized Weights for Salinity Models: {normalized_weights_salinity}')\n",
        "mae_temp = mean_absolute_error(actual_temp, final_predictions_temp)\n",
        "print(f'MAE for Temperature Predictions: {mae_temp}')\n",
        "mae_salinity = mean_absolute_error(actual_salinity, final_predictions_salinity)\n",
        "print(f'MAE for Salinity Predictions: {mae_salinity}')\n",
        "\n"
      ]
    },
    {
      "cell_type": "code",
      "execution_count": null,
      "metadata": {
        "colab": {
          "base_uri": "https://localhost:8080/"
        },
        "id": "2lY6pFEpAOdv",
        "outputId": "70c11bc7-7f6c-44c9-fcbd-2d90b020b3cc"
      },
      "outputs": [
        {
          "name": "stdout",
          "output_type": "stream",
          "text": [
            "R^2 Score for Temperature Predictions: 0.8594865356133613\n",
            "R^2 Score for Salinity Predictions: 0.9126115253940816\n"
          ]
        }
      ],
      "source": [
        "r2_temp = r2_score(actual_temp, final_predictions_temp)\n",
        "print(f'R^2 Score for Temperature Predictions: {r2_temp}')\n",
        "r2_salinity = r2_score(actual_salinity, final_predictions_salinity)\n",
        "print(f'R^2 Score for Salinity Predictions: {r2_salinity}')"
      ]
    }
  ],
  "metadata": {
    "colab": {
      "machine_shape": "hm",
      "provenance": []
    },
    "kernelspec": {
      "display_name": "Python 3",
      "name": "python3"
    },
    "language_info": {
      "name": "python"
    }
  },
  "nbformat": 4,
  "nbformat_minor": 0
}
