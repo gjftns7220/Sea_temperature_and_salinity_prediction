{
  "cells": [
    {
      "cell_type": "code",
      "execution_count": null,
      "metadata": {
        "id": "6muqMHrdE23d"
      },
      "outputs": [],
      "source": [
        "import pandas as pd\n",
        "from sklearn.model_selection import train_test_split\n",
        "from sklearn.ensemble import RandomForestRegressor\n",
        "from sklearn.metrics import mean_squared_error\n",
        "from sklearn.preprocessing import StandardScaler"
      ]
    },
    {
      "cell_type": "code",
      "execution_count": null,
      "metadata": {
        "colab": {
          "base_uri": "https://localhost:8080/"
        },
        "id": "Spr6ZXuGE5cy",
        "outputId": "97776a27-56bb-4849-b62d-a0ba8e56a64c"
      },
      "outputs": [
        {
          "name": "stdout",
          "output_type": "stream",
          "text": [
            "Drive already mounted at /content/drive; to attempt to forcibly remount, call drive.mount(\"/content/drive\", force_remount=True).\n"
          ]
        }
      ],
      "source": [
        "from google.colab import drive\n",
        "drive.mount('/content/drive')"
      ]
    },
    {
      "cell_type": "code",
      "execution_count": null,
      "metadata": {
        "id": "KqFqKPciE-yY"
      },
      "outputs": [],
      "source": [
        "data = pd.read_csv('/content/drive/MyDrive/Colab Notebooks/more_clean_ver.csv')\n",
        "data=data.dropna()\n",
        "dates = data['time'].values\n",
        "data['time'] = pd.to_datetime(data['time'])\n",
        "data['year'] = data['time'].dt.year\n",
        "data['month'] = data['time'].dt.month\n",
        "data['day'] = data['time'].dt.day\n",
        "time = data[['time']]\n",
        "data = data.drop(columns=['time'])"
      ]
    },
    {
      "cell_type": "code",
      "execution_count": null,
      "metadata": {
        "id": "42oyImGYE23e"
      },
      "outputs": [],
      "source": [
        "features = data[['depth', 'year', 'month', 'day', 'latitude', 'longitude']]\n",
        "targets = data[['sea_water_temperature', 'sea_water_practical_salinity']]"
      ]
    },
    {
      "cell_type": "code",
      "execution_count": null,
      "metadata": {
        "colab": {
          "background_save": true,
          "base_uri": "https://localhost:8080/"
        },
        "id": "LgHaCetRE23e",
        "outputId": "46c18b55-7bf2-4319-b39b-929ebd80c204"
      },
      "outputs": [
        {
          "name": "stdout",
          "output_type": "stream",
          "text": [
            "          sea_water_temperature  sea_water_practical_salinity\n",
            "11432289              12.226200                       29.3180\n",
            "3389503                6.255499                       33.9520\n",
            "6876498                8.670700                       32.4024\n",
            "9639155                9.134200                       31.3349\n",
            "12124092               6.513000                       33.1564\n",
            "                              time\n",
            "11432289 2019-07-05 07:01:23+00:00\n",
            "3389503  1992-08-02 04:00:00+00:00\n",
            "6876498  2004-06-23 05:24:49+00:00\n",
            "9639155  2013-11-06 20:06:08+00:00\n",
            "12124092 2021-06-07 07:54:48+00:00\n"
          ]
        }
      ],
      "source": [
        "\n",
        "features = data[['depth', 'year', 'month', 'day', 'latitude', 'longitude']]\n",
        "targets = data[['sea_water_temperature', 'sea_water_practical_salinity']]\n",
        "\n",
        "\n",
        "X_train, X_test, y_train, y_test, time_train, time_test = train_test_split(\n",
        "    features, targets, time, test_size=0.2, random_state=42\n",
        ")\n",
        "\n",
        "\n",
        "print(y_test.head())\n",
        "print(time_test.head())\n",
        "\n",
        "\n",
        "scaler = StandardScaler()\n",
        "X_train_scaled = scaler.fit_transform(X_train)\n",
        "X_test_scaled = scaler.transform(X_test)\n",
        "\n",
        "\n",
        "model = RandomForestRegressor(n_estimators=100, random_state=42)\n",
        "model.fit(X_train_scaled, y_train)\n",
        "\n",
        "\n",
        "y_pred = model.predict(X_test_scaled)\n",
        "\n",
        "\n",
        "y_test_df = pd.DataFrame(y_test.values, columns=['actual_temperature', 'actual_salinity'])\n",
        "time_test_df = pd.DataFrame(time_test.values, columns=['date'])\n",
        "\n",
        "\n",
        "print(y_test_df.head())\n",
        "print(time_test_df.head())\n",
        "\n",
        "\n",
        "preds_df = pd.DataFrame(y_pred, columns=['predicted_temperature', 'predicted_salinity'])\n",
        "\n",
        "\n",
        "results_df = pd.concat([time_test_df.reset_index(drop=True),\n",
        "                        y_test_df.reset_index(drop=True),\n",
        "                        preds_df.reset_index(drop=True)], axis=1)\n",
        "\n",
        "\n"
      ]
    },
    {
      "cell_type": "code",
      "execution_count": null,
      "metadata": {
        "id": "xNl01BnAE23f"
      },
      "outputs": [],
      "source": [
        "from sklearn.metrics import mean_squared_error, mean_absolute_error\n",
        "import numpy as np\n",
        "\n",
        "mse = mean_squared_error(y_test, y_pred)\n",
        "rmse = np.sqrt(mse)\n",
        "mae = mean_absolute_error(y_test, y_pred)\n",
        "\n",
        "print(f\"RMSE: {rmse}\")\n",
        "print(f\"MAE: {mae}\")\n"
      ]
    },
    {
      "cell_type": "code",
      "execution_count": null,
      "metadata": {
        "id": "BsiB-GLTE23f"
      },
      "outputs": [],
      "source": [
        "results_csv_path = 'actual_vs_predicted.csv'\n",
        "results_df.to_csv(results_csv_path, index=False)\n",
        "\n",
        "print(\"CSV file exported.\")"
      ]
    }
  ],
  "metadata": {
    "colab": {
      "provenance": []
    },
    "kernelspec": {
      "display_name": "Python 3",
      "language": "python",
      "name": "python3"
    },
    "language_info": {
      "codemirror_mode": {
        "name": "ipython",
        "version": 3
      },
      "file_extension": ".py",
      "mimetype": "text/x-python",
      "name": "python",
      "nbconvert_exporter": "python",
      "pygments_lexer": "ipython3",
      "version": "3.10.10"
    }
  },
  "nbformat": 4,
  "nbformat_minor": 0
}
