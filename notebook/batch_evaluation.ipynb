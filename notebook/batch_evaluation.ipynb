{
 "cells": [
  {
   "cell_type": "code",
   "execution_count": 7,
   "metadata": {},
   "outputs": [
    {
     "name": "stdout",
     "output_type": "stream",
     "text": [
      "RMSE (Temperature): 0.7447915044191861\n",
      "MAE (Temperature): 0.5335855936902902\n",
      "RMSE (Salinity): 0.5264152756473258\n",
      "MAE (Salinity): 0.2620696002859971\n"
     ]
    }
   ],
   "source": [
    "import pandas as pd\n",
    "from sklearn.metrics import mean_squared_error, mean_absolute_error\n",
    "import numpy as np\n",
    "\n",
    "\n",
    "num_files = 10\n",
    "all_predicted_temperatures = []\n",
    "all_predicted_salinity = []\n",
    "\n",
    "for i in range(1, num_files + 1):\n",
    "    df = pd.read_csv(f'drive-download\\prediction_{i}.csv')\n",
    "\n",
    "    all_predicted_temperatures.append(df['predicted_temperature'])\n",
    "    all_predicted_salinity.append(df['predicted_salinity'])\n",
    "\n",
    "\n",
    "avg_predicted_temperature = pd.concat(all_predicted_temperatures, axis=1).mean(axis=1)\n",
    "avg_predicted_salinity = pd.concat(all_predicted_salinity, axis=1).mean(axis=1)\n",
    "\n",
    "\n",
    "df_first = pd.read_csv('drive-download\\prediction_1.csv')\n",
    "actual_temperature = df_first['actual_temperature']\n",
    "actual_salinity = df_first['actual_salinity']\n",
    "\n",
    "\n",
    "rmse_temperature = np.sqrt(mean_squared_error(actual_temperature, avg_predicted_temperature))\n",
    "mae_temperature = mean_absolute_error(actual_temperature, avg_predicted_temperature)\n",
    "\n",
    "rmse_salinity = np.sqrt(mean_squared_error(actual_salinity, avg_predicted_salinity))\n",
    "mae_salinity = mean_absolute_error(actual_salinity, avg_predicted_salinity)\n",
    "\n",
    "print(f'RMSE (Temperature): {rmse_temperature}')\n",
    "print(f'MAE (Temperature): {mae_temperature}')\n",
    "print(f'RMSE (Salinity): {rmse_salinity}')\n",
    "print(f'MAE (Salinity): {mae_salinity}')"
   ]
  },
  {
   "cell_type": "code",
   "execution_count": 8,
   "metadata": {},
   "outputs": [
    {
     "name": "stdout",
     "output_type": "stream",
     "text": [
      "Standard Deviation of Actual Temperature: 1.8607798110332299\n",
      "Standard Deviation of Actual Salinity: 1.680117280298808\n"
     ]
    }
   ],
   "source": [
    "std_temperature = df_first['actual_temperature'].std()\n",
    "std_salinity = df_first['actual_salinity'].std()\n",
    "\n",
    "\n",
    "print(f\"Standard Deviation of Actual Temperature: {std_temperature}\")\n",
    "print(f\"Standard Deviation of Actual Salinity: {std_salinity}\")"
   ]
  },
  {
   "cell_type": "code",
   "execution_count": 9,
   "metadata": {},
   "outputs": [
    {
     "name": "stdout",
     "output_type": "stream",
     "text": [
      "R^2 for Temperature Predictions: 0.8397935959086856\n",
      "R^2 for Salinity Predictions: 0.9018301371241684\n"
     ]
    }
   ],
   "source": [
    "import pandas as pd\n",
    "from sklearn.metrics import r2_score\n",
    "\n",
    "\n",
    "r2_temperature = r2_score(actual_temperature, avg_predicted_temperature)\n",
    "r2_salinity = r2_score(actual_salinity, avg_predicted_salinity)\n",
    "\n",
    "\n",
    "print(f\"R^2 for Temperature Predictions: {r2_temperature}\")\n",
    "print(f\"R^2 for Salinity Predictions: {r2_salinity}\")\n"
   ]
  }
 ],
 "metadata": {
  "kernelspec": {
   "display_name": "Python 3",
   "language": "python",
   "name": "python3"
  },
  "language_info": {
   "codemirror_mode": {
    "name": "ipython",
    "version": 3
   },
   "file_extension": ".py",
   "mimetype": "text/x-python",
   "name": "python",
   "nbconvert_exporter": "python",
   "pygments_lexer": "ipython3",
   "version": "3.10.10"
  }
 },
 "nbformat": 4,
 "nbformat_minor": 2
}
