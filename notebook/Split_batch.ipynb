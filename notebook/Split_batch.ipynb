{
 "cells": [
  {
   "cell_type": "code",
   "execution_count": 1,
   "metadata": {},
   "outputs": [],
   "source": [
    "import pandas as pd\n",
    "import numpy as np\n",
    "\n",
    "data = pd.read_csv('Old\\more_clean_ver.csv')\n",
    "data = data.dropna()\n",
    "data['time'] = pd.to_datetime(data['time'])\n",
    "data['year'] = data['time'].dt.year\n",
    "data['month'] = data['time'].dt.month\n",
    "data['day'] = data['time'].dt.day\n",
    "time = data[['time']]\n",
    "\n",
    "\n",
    "data_before_2020 = data[data['time'] < '2020-01-01']\n",
    "data_from_2020 = data[data['time'] >= '2020-01-01']"
   ]
  },
  {
   "cell_type": "code",
   "execution_count": 2,
   "metadata": {},
   "outputs": [
    {
     "data": {
      "text/plain": [
       "'\\nCoast to Coast to Coast Description.pdf\"shuffled_data = data_before_2020.sample(frac=1, random_state=42).reset_index(drop=True)\\nbatches = np.array_split(shuffled_data, 10)\\n'"
      ]
     },
     "execution_count": 2,
     "metadata": {},
     "output_type": "execute_result"
    }
   ],
   "source": [
    "\"\"\"\n",
    "Coast to Coast to Coast Description.pdf\"shuffled_data = data_before_2020.sample(frac=1, random_state=42).reset_index(drop=True)\n",
    "batches = np.array_split(shuffled_data, 10)\n",
    "\"\"\""
   ]
  },
  {
   "cell_type": "code",
   "execution_count": 3,
   "metadata": {},
   "outputs": [
    {
     "data": {
      "text/plain": [
       "\"\\nfor i, batch in enumerate(batches):\\n    filename = f'batch_{i+1}.csv'\\n    batch.to_csv(filename, index=False)\\n    print(f'batch\\\\Batch {i+1} exported to {filename}')\\n\""
      ]
     },
     "execution_count": 3,
     "metadata": {},
     "output_type": "execute_result"
    }
   ],
   "source": [
    "\"\"\"\n",
    "for i, batch in enumerate(batches):\n",
    "    filename = f'batch_{i+1}.csv'\n",
    "    batch.to_csv(filename, index=False)\n",
    "    print(f'batch\\Batch {i+1} exported to {filename}')\n",
    "\"\"\""
   ]
  },
  {
   "cell_type": "code",
   "execution_count": 4,
   "metadata": {},
   "outputs": [
    {
     "name": "stdout",
     "output_type": "stream",
     "text": [
      "Data from 2023 onwards exported to data_before_2023.csv\n"
     ]
    }
   ],
   "source": [
    "\n",
    "data_before_2020.to_csv('batch\\data_before_2023.csv', index=False)\n",
    "print('Data from 2023 onwards exported to data_before_2023.csv')\n"
   ]
  }
 ],
 "metadata": {
  "kernelspec": {
   "display_name": "Python 3",
   "language": "python",
   "name": "python3"
  },
  "language_info": {
   "codemirror_mode": {
    "name": "ipython",
    "version": 3
   },
   "file_extension": ".py",
   "mimetype": "text/x-python",
   "name": "python",
   "nbconvert_exporter": "python",
   "pygments_lexer": "ipython3",
   "version": "3.10.10"
  }
 },
 "nbformat": 4,
 "nbformat_minor": 2
}
