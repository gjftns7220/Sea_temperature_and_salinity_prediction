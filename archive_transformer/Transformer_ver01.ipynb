{
 "cells": [
  {
   "cell_type": "code",
   "execution_count": 1,
   "metadata": {},
   "outputs": [],
   "source": [
    "import pandas as pd\n",
    "import torch\n",
    "import torch.nn as nn\n",
    "import torch.optim as optim\n",
    "import numpy as np"
   ]
  },
  {
   "cell_type": "code",
   "execution_count": 2,
   "metadata": {},
   "outputs": [],
   "source": [
    "from sklearn.model_selection import train_test_split\n",
    "from sklearn.preprocessing import StandardScaler\n",
    "from torch.utils.data import Dataset, DataLoader, TensorDataset\n",
    "from sklearn.metrics import mean_squared_error, mean_absolute_error\n",
    "from torch.optim.lr_scheduler import ReduceLROnPlateau"
   ]
  },
  {
   "cell_type": "code",
   "execution_count": 3,
   "metadata": {},
   "outputs": [],
   "source": [
    "data = pd.read_csv('small_sample2.csv')\n",
    "data=data.dropna()"
   ]
  },
  {
   "cell_type": "code",
   "execution_count": 4,
   "metadata": {},
   "outputs": [],
   "source": [
    "dates = data['time'].values\n",
    "data['time'] = pd.to_datetime(data['time'])\n",
    "data['year'] = data['time'].dt.year\n",
    "data['month'] = data['time'].dt.month\n",
    "data['day'] = data['time'].dt.day\n",
    "data = data.drop(columns=['time'])"
   ]
  },
  {
   "cell_type": "code",
   "execution_count": 5,
   "metadata": {},
   "outputs": [],
   "source": [
    "\n",
    "features = data[['depth', 'year', 'month', 'day', 'latitude', 'longitude']].values\n",
    "targets = data[['sea_water_temperature', 'sea_water_practical_salinity']].values\n"
   ]
  },
  {
   "cell_type": "code",
   "execution_count": 6,
   "metadata": {},
   "outputs": [],
   "source": [
    "data.to_csv('data.csv', index=False)"
   ]
  },
  {
   "cell_type": "code",
   "execution_count": 7,
   "metadata": {},
   "outputs": [],
   "source": [
    "scaler_x = StandardScaler()\n",
    "X_scaled = scaler_x.fit_transform(features)\n",
    "\n",
    "scaler_y = StandardScaler()\n",
    "y_scaled = scaler_y.fit_transform(targets)\n",
    "\n",
    "X_train, X_temp, y_train, y_temp = train_test_split(X_scaled, y_scaled, test_size=0.2, random_state=42)\n",
    "X_val, X_test, y_val, y_test = train_test_split(X_temp, y_temp, test_size=0.5, random_state=42)\n",
    "dates_train, dates_temp = train_test_split(dates, test_size=0.2, random_state=42)\n",
    "dates_val, dates_test = train_test_split(dates_temp, test_size=0.5, random_state=42)"
   ]
  },
  {
   "cell_type": "code",
   "execution_count": 8,
   "metadata": {},
   "outputs": [
    {
     "data": {
      "text/plain": [
       "\"\\ndf_X_train = pd.DataFrame(X_train)\\ndf_X_val = pd.DataFrame(X_val)\\ndf_X_test = pd.DataFrame(X_test)\\ndf_y_train = pd.DataFrame(y_train)\\ndf_y_val = pd.DataFrame(y_val)\\ndf_y_test = pd.DataFrame(y_test)\\n\\ndf_X_train.to_csv('X_train.csv', index=False)\\ndf_X_val.to_csv('X_val.csv', index=False)\\ndf_X_test.to_csv('X_test.csv', index=False)\\ndf_y_train.to_csv('y_train.csv', index=False)\\ndf_y_val.to_csv('y_val.csv', index=False)\\ndf_y_test.to_csv('y_test.csv', index=False)\\n\""
      ]
     },
     "execution_count": 8,
     "metadata": {},
     "output_type": "execute_result"
    }
   ],
   "source": [
    "\"\"\"\n",
    "df_X_train = pd.DataFrame(X_train)\n",
    "df_X_val = pd.DataFrame(X_val)\n",
    "df_X_test = pd.DataFrame(X_test)\n",
    "df_y_train = pd.DataFrame(y_train)\n",
    "df_y_val = pd.DataFrame(y_val)\n",
    "df_y_test = pd.DataFrame(y_test)\n",
    "\n",
    "df_X_train.to_csv('X_train.csv', index=False)\n",
    "df_X_val.to_csv('X_val.csv', index=False)\n",
    "df_X_test.to_csv('X_test.csv', index=False)\n",
    "df_y_train.to_csv('y_train.csv', index=False)\n",
    "df_y_val.to_csv('y_val.csv', index=False)\n",
    "df_y_test.to_csv('y_test.csv', index=False)\n",
    "\"\"\"\n"
   ]
  },
  {
   "cell_type": "code",
   "execution_count": 9,
   "metadata": {},
   "outputs": [],
   "source": [
    "class CombinedDataset(Dataset):\n",
    "    def __init__(self, features, targets, seq_length=None):\n",
    "        self.features = features\n",
    "        self.targets = targets\n",
    "        self.seq_length = seq_length\n",
    "\n",
    "        if seq_length is not None:\n",
    "            self.sequences = self._create_sequences(features, seq_length)\n",
    "            self.sequence_targets = targets[seq_length:]\n",
    "            \n",
    "        else:\n",
    "            self.sequences = features\n",
    "            self.sequence_targets = targets\n",
    "\n",
    "    def _create_sequences(self, data, seq_length):\n",
    "        sequences = []\n",
    "        for i in range(len(data) - seq_length):\n",
    "            sequences.append(data[i:i+seq_length])\n",
    "        return sequences\n",
    "\n",
    "    def __len__(self):\n",
    "        return len(self.sequence_targets)\n",
    "\n",
    "    def __getitem__(self, index):\n",
    "        if self.seq_length is not None:\n",
    "            return (self.sequences[index], self.sequence_targets[index])\n",
    "        else:\n",
    "            return (self.features[index], self.targets[index])\n"
   ]
  },
  {
   "cell_type": "code",
   "execution_count": 10,
   "metadata": {},
   "outputs": [],
   "source": [
    "\n",
    "seq_length = 512\n",
    "train_dataset_seq = CombinedDataset(X_train, y_train, seq_length)\n",
    "val_dataset_seq = CombinedDataset(X_val, y_val, seq_length)\n",
    "\n",
    "\n",
    "train_dataset = TensorDataset(torch.tensor(X_train, dtype=torch.float32), torch.tensor(y_train, dtype=torch.float32))\n",
    "val_dataset = TensorDataset(torch.tensor(X_val, dtype=torch.float32), torch.tensor(y_val, dtype=torch.float32))\n",
    "test_dataset = TensorDataset(torch.tensor(X_test, dtype=torch.float32), torch.tensor(y_test, dtype=torch.float32))\n"
   ]
  },
  {
   "cell_type": "code",
   "execution_count": 11,
   "metadata": {},
   "outputs": [],
   "source": [
    "from torch.utils.data import DataLoader\n",
    "\n",
    "batch_size = 512\n",
    "num_workers = 4 \n",
    "\n",
    "train_loader = DataLoader(train_dataset, batch_size=batch_size, shuffle=True, num_workers=num_workers)\n",
    "val_loader = DataLoader(val_dataset, batch_size=batch_size, shuffle=False, num_workers=num_workers)\n",
    "test_loader = DataLoader(test_dataset, batch_size=batch_size, shuffle=False, num_workers=num_workers)\n"
   ]
  },
  {
   "cell_type": "code",
   "execution_count": 12,
   "metadata": {},
   "outputs": [],
   "source": [
    "class TransformerModel(nn.Module):\n",
    "    def __init__(self):\n",
    "        super(TransformerModel, self).__init__()\n",
    "        self.encoder_layer = nn.TransformerEncoderLayer(d_model=6, nhead=2, batch_first=True)\n",
    "        self.transformer_encoder = nn.TransformerEncoder(self.encoder_layer, num_layers=6)\n",
    "        self.decoder = nn.Linear(6, 2) \n",
    "\n",
    "    def forward(self, src):\n",
    "        output = self.transformer_encoder(src)\n",
    "        if output.dim() == 3:\n",
    "            output = self.decoder(output[:, -1, :])\n",
    "        elif output.dim() == 2:\n",
    "            output = self.decoder(output)\n",
    "        return output"
   ]
  },
  {
   "cell_type": "code",
   "execution_count": 13,
   "metadata": {},
   "outputs": [],
   "source": [
    "device = torch.device(\"cuda\" if torch.cuda.is_available() else \"cpu\")\n",
    "model = TransformerModel().to(device)\n",
    "criterion = nn.MSELoss()\n",
    "optimizer = optim.Adam(model.parameters(), lr=0.01)\n",
    "scheduler = ReduceLROnPlateau(optimizer, 'min', patience=10, factor=0.1, verbose=True)"
   ]
  },
  {
   "cell_type": "code",
   "execution_count": 14,
   "metadata": {},
   "outputs": [],
   "source": [
    "def validate(model, loader, criterion, device, verbose=False):\n",
    "    model.eval()\n",
    "    total_loss = 0.0\n",
    "    predictions, actuals = [], []\n",
    "\n",
    "    with torch.no_grad():\n",
    "        for batch_idx, (inputs, targets) in enumerate(loader):\n",
    "            if verbose:\n",
    "                print(f\"Batch {batch_idx} input shape: {inputs.size()}\")\n",
    "\n",
    "            if len(inputs.size()) == 2:\n",
    "                inputs = inputs.unsqueeze(1)\n",
    "\n",
    "            inputs, targets = inputs.to(device), targets.to(device)\n",
    "\n",
    "            try:\n",
    "                outputs = model(inputs.float())\n",
    "                loss = criterion(outputs, targets.float())\n",
    "                total_loss += loss.item() * inputs.size(0)\n",
    "\n",
    "                predictions.extend(outputs.detach().cpu().tolist())\n",
    "                actuals.extend(targets.detach().cpu().tolist())\n",
    "\n",
    "            except RuntimeError as e:\n",
    "                print(f\"Error in batch {batch_idx}: {e}\")\n",
    "                break\n",
    "\n",
    "    average_loss = total_loss / len(loader.dataset)\n",
    "    if verbose:\n",
    "        print(f'Average validation loss: {average_loss:.4f}')\n",
    "\n",
    "    return average_loss, predictions, actuals\n",
    "\n",
    "num_epochs = 100\n",
    "best_val_loss = np.inf\n",
    "patience, trials = 20, 0"
   ]
  },
  {
   "cell_type": "code",
   "execution_count": 15,
   "metadata": {},
   "outputs": [
    {
     "name": "stdout",
     "output_type": "stream",
     "text": [
      "Epoch [1/100], Loss: 1.0230, Val Loss: 0.9945\n",
      "Epoch [2/100], Loss: 1.0070, Val Loss: 0.9918\n",
      "Epoch [3/100], Loss: 1.0072, Val Loss: 0.9930\n",
      "Epoch [4/100], Loss: 1.0073, Val Loss: 0.9920\n",
      "Epoch [5/100], Loss: 1.0068, Val Loss: 0.9922\n",
      "Epoch [6/100], Loss: 1.0075, Val Loss: 0.9925\n",
      "Epoch [7/100], Loss: 1.0074, Val Loss: 0.9925\n",
      "Epoch [8/100], Loss: 1.0066, Val Loss: 0.9944\n",
      "Epoch [9/100], Loss: 1.0066, Val Loss: 0.9819\n",
      "Epoch [10/100], Loss: 1.0087, Val Loss: 0.9931\n",
      "Epoch [11/100], Loss: 1.0076, Val Loss: 0.9922\n",
      "Epoch [12/100], Loss: 1.0066, Val Loss: 0.9917\n",
      "Epoch [13/100], Loss: 1.0068, Val Loss: 0.9928\n",
      "Epoch [14/100], Loss: 1.0060, Val Loss: 0.9931\n",
      "Epoch [15/100], Loss: 1.0068, Val Loss: 0.9918\n",
      "Epoch [16/100], Loss: 1.0060, Val Loss: 0.9930\n",
      "Epoch [17/100], Loss: 1.0064, Val Loss: 0.9917\n",
      "Epoch [18/100], Loss: 1.0065, Val Loss: 0.9921\n",
      "Epoch [19/100], Loss: 1.0064, Val Loss: 0.9924\n",
      "Epoch 00020: reducing learning rate of group 0 to 1.0000e-03.\n",
      "Epoch [20/100], Loss: 1.0062, Val Loss: 0.9921\n",
      "Epoch [21/100], Loss: 1.0055, Val Loss: 0.9921\n",
      "Epoch [22/100], Loss: 1.0057, Val Loss: 0.9921\n",
      "Epoch [23/100], Loss: 1.0055, Val Loss: 0.9921\n",
      "Epoch [24/100], Loss: 1.0056, Val Loss: 0.9924\n",
      "Epoch [25/100], Loss: 1.0057, Val Loss: 0.9923\n",
      "Epoch [26/100], Loss: 1.0055, Val Loss: 0.9919\n",
      "Epoch [27/100], Loss: 1.0055, Val Loss: 0.9925\n",
      "Epoch [28/100], Loss: 1.0056, Val Loss: 0.9925\n",
      "Epoch [29/100], Loss: 1.0058, Val Loss: 0.9927\n",
      "Early stopping triggered.\n"
     ]
    }
   ],
   "source": [
    "for epoch in range(num_epochs):\n",
    "    model.train()\n",
    "    running_loss = 0.0\n",
    "\n",
    "    for batch_idx, (inputs, targets) in enumerate(train_loader):\n",
    "        inputs, targets = inputs.to(device), targets.to(device)\n",
    "        optimizer.zero_grad()\n",
    "        outputs = model(inputs.float())\n",
    "        loss = criterion(outputs, targets.float())\n",
    "        loss.backward()\n",
    "        torch.nn.utils.clip_grad_norm_(model.parameters(), 1.0)\n",
    "        optimizer.step()\n",
    "        running_loss += loss.item() * inputs.size(0)\n",
    "\n",
    "    epoch_loss = running_loss / len(train_loader.dataset)\n",
    "\n",
    "\n",
    "    val_loss, _, _ = validate(model, val_loader, criterion, device)\n",
    "    scheduler.step(val_loss)\n",
    "\n",
    "    print(f'Epoch [{epoch+1}/{num_epochs}], Loss: {epoch_loss:.4f}, Val Loss: {val_loss:.4f}')\n",
    "\n",
    "\n",
    "    if val_loss < best_val_loss:\n",
    "        best_val_loss = val_loss\n",
    "        trials = 0\n",
    "        torch.save(model.state_dict(), 'best_transformer_model.pth')\n",
    "    else:\n",
    "        trials += 1\n",
    "        if trials >= patience:\n",
    "            print(\"Early stopping triggered.\")\n",
    "            break"
   ]
  },
  {
   "cell_type": "code",
   "execution_count": 16,
   "metadata": {},
   "outputs": [
    {
     "name": "stdout",
     "output_type": "stream",
     "text": [
      "Batch 0 input shape: torch.Size([512, 6])\n",
      "Batch 1 input shape: torch.Size([512, 6])\n",
      "Batch 2 input shape: torch.Size([512, 6])\n",
      "Batch 3 input shape: torch.Size([512, 6])\n",
      "Batch 4 input shape: torch.Size([512, 6])\n",
      "Batch 5 input shape: torch.Size([512, 6])\n",
      "Batch 6 input shape: torch.Size([130, 6])\n",
      "Average validation loss: 0.9927\n",
      "Average validation loss: 0.9927\n"
     ]
    }
   ],
   "source": [
    "average_val_loss, val_predictions, val_actuals = validate(model, val_loader, criterion, device, verbose=True)\n",
    "print(f'Average validation loss: {average_val_loss:.4f}')\n"
   ]
  },
  {
   "cell_type": "code",
   "execution_count": 17,
   "metadata": {},
   "outputs": [],
   "source": [
    "def inverse_transform(scaler, data, column_indices):\n",
    "\n",
    "    data = np.array(data)\n",
    "    dummy = np.zeros((data.shape[0], len(scaler.scale_)))\n",
    "    dummy[:, column_indices] = data\n",
    "    return scaler.inverse_transform(dummy)[:, column_indices]\n",
    "\n",
    "\n",
    "predictions_rescaled = inverse_transform(scaler_y, val_predictions, [0, 1])\n",
    "actuals_rescaled = inverse_transform(scaler_y, val_actuals, [0, 1])\n"
   ]
  },
  {
   "cell_type": "code",
   "execution_count": 18,
   "metadata": {},
   "outputs": [
    {
     "name": "stdout",
     "output_type": "stream",
     "text": [
      "Average Validation Loss: 0.9927\n",
      "Temperature - RMSE: 0.7366, MAE: 0.6043\n",
      "Salinity - RMSE: 0.6943, MAE: 0.4647\n"
     ]
    }
   ],
   "source": [
    "rmse_temp = np.sqrt(mean_squared_error(actuals_rescaled[:, 0], predictions_rescaled[:, 0]))\n",
    "mae_temp = mean_absolute_error(actuals_rescaled[:, 0], predictions_rescaled[:, 0])\n",
    "\n",
    "rmse_salinity = np.sqrt(mean_squared_error(actuals_rescaled[:, 1], predictions_rescaled[:, 1]))\n",
    "mae_salinity = mean_absolute_error(actuals_rescaled[:, 1], predictions_rescaled[:, 1])\n",
    "\n",
    "print(f'Average Validation Loss: {average_val_loss:.4f}')\n",
    "print(f'Temperature - RMSE: {rmse_temp:.4f}, MAE: {mae_temp:.4f}')\n",
    "print(f'Salinity - RMSE: {rmse_salinity:.4f}, MAE: {mae_salinity:.4f}')\n"
   ]
  },
  {
   "cell_type": "code",
   "execution_count": 19,
   "metadata": {},
   "outputs": [],
   "source": [
    "df = pd.DataFrame({\n",
    "    'Actual Temperature': actuals_rescaled[:, 0],\n",
    "    'Predicted Temperature': predictions_rescaled[:, 0],\n",
    "    'Actual Salinity': actuals_rescaled[:, 1],\n",
    "    'Predicted Salinity': predictions_rescaled[:, 1]\n",
    "})\n",
    "\n",
    "\n",
    "csv_file_path = 'actuals_vs_predictions.csv'\n",
    "df.to_csv(csv_file_path, index=False)"
   ]
  }
 ],
 "metadata": {
  "kernelspec": {
   "display_name": "Python 3",
   "language": "python",
   "name": "python3"
  },
  "language_info": {
   "codemirror_mode": {
    "name": "ipython",
    "version": 3
   },
   "file_extension": ".py",
   "mimetype": "text/x-python",
   "name": "python",
   "nbconvert_exporter": "python",
   "pygments_lexer": "ipython3",
   "version": "3.10.10"
  }
 },
 "nbformat": 4,
 "nbformat_minor": 2
}
